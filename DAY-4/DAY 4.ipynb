{
 "cells": [
  {
   "cell_type": "markdown",
   "metadata": {},
   "source": [
    "## Research on whether addition, subtraction, multiplication, division, floor division and modulo operations be performed on complex numbers. Based on your study, implement a Python program to demonstrate these operations. "
   ]
  },
  {
   "cell_type": "code",
   "execution_count": 2,
   "metadata": {},
   "outputs": [
    {
     "name": "stdout",
     "output_type": "stream",
     "text": [
      "Addition of two complex numbers is (14+7j)\n",
      "Subtraction of two complex number is (2+3j)\n",
      "Multiplication of two complex number is (38+46j)\n",
      "Division of two complex number is (1.45+0.35000000000000003j)\n"
     ]
    }
   ],
   "source": [
    "a=8+5j\n",
    "b=6+2j\n",
    "print(\"Addition of two complex numbers is\",a+b)\n",
    "print(\"Subtraction of two complex number is\",a-b)\n",
    "print(\"Multiplication of two complex number is\",a*b)\n",
    "print(\"Division of two complex number is\",a/b)"
   ]
  },
  {
   "cell_type": "raw",
   "metadata": {},
   "source": [
    "Mod operations cannot be performed on complex numbers"
   ]
  },
  {
   "cell_type": "code",
   "execution_count": 4,
   "metadata": {},
   "outputs": [
    {
     "ename": "TypeError",
     "evalue": "can't mod complex numbers.",
     "output_type": "error",
     "traceback": [
      "\u001b[1;31m---------------------------------------------------------------------------\u001b[0m",
      "\u001b[1;31mTypeError\u001b[0m                                 Traceback (most recent call last)",
      "\u001b[1;32m<ipython-input-4-24e6b74b0b22>\u001b[0m in \u001b[0;36m<module>\u001b[1;34m\u001b[0m\n\u001b[0;32m      1\u001b[0m \u001b[0ma\u001b[0m\u001b[1;33m=\u001b[0m\u001b[1;36m8\u001b[0m\u001b[1;33m+\u001b[0m\u001b[1;36m5j\u001b[0m\u001b[1;33m\u001b[0m\u001b[1;33m\u001b[0m\u001b[0m\n\u001b[0;32m      2\u001b[0m \u001b[0mb\u001b[0m\u001b[1;33m=\u001b[0m\u001b[1;36m6\u001b[0m\u001b[1;33m+\u001b[0m\u001b[1;36m2j\u001b[0m\u001b[1;33m\u001b[0m\u001b[1;33m\u001b[0m\u001b[0m\n\u001b[1;32m----> 3\u001b[1;33m \u001b[0mprint\u001b[0m\u001b[1;33m(\u001b[0m\u001b[1;34m\"Modulous of two complex number is =\"\u001b[0m\u001b[1;33m,\u001b[0m\u001b[0ma\u001b[0m\u001b[1;33m%\u001b[0m\u001b[0mb\u001b[0m\u001b[1;33m)\u001b[0m\u001b[1;33m\u001b[0m\u001b[1;33m\u001b[0m\u001b[0m\n\u001b[0m",
      "\u001b[1;31mTypeError\u001b[0m: can't mod complex numbers."
     ]
    }
   ],
   "source": [
    "a=8+5j\n",
    "b=6+2j\n",
    "print(\"Modulous of two complex number is =\",a%b)"
   ]
  },
  {
   "cell_type": "raw",
   "metadata": {},
   "source": [
    "Floor division operation is not possible on complex numbers"
   ]
  },
  {
   "cell_type": "code",
   "execution_count": 5,
   "metadata": {},
   "outputs": [
    {
     "ename": "TypeError",
     "evalue": "can't take floor of complex number.",
     "output_type": "error",
     "traceback": [
      "\u001b[1;31m---------------------------------------------------------------------------\u001b[0m",
      "\u001b[1;31mTypeError\u001b[0m                                 Traceback (most recent call last)",
      "\u001b[1;32m<ipython-input-5-47691f05fa2e>\u001b[0m in \u001b[0;36m<module>\u001b[1;34m\u001b[0m\n\u001b[0;32m      1\u001b[0m \u001b[0ma\u001b[0m\u001b[1;33m=\u001b[0m\u001b[1;36m8\u001b[0m\u001b[1;33m+\u001b[0m\u001b[1;36m5j\u001b[0m\u001b[1;33m\u001b[0m\u001b[1;33m\u001b[0m\u001b[0m\n\u001b[0;32m      2\u001b[0m \u001b[0mb\u001b[0m\u001b[1;33m=\u001b[0m\u001b[1;36m6\u001b[0m\u001b[1;33m+\u001b[0m\u001b[1;36m2j\u001b[0m\u001b[1;33m\u001b[0m\u001b[1;33m\u001b[0m\u001b[0m\n\u001b[1;32m----> 3\u001b[1;33m \u001b[0mprint\u001b[0m\u001b[1;33m(\u001b[0m\u001b[1;34m\"Floor division of two complex  numbers is =\"\u001b[0m\u001b[1;33m,\u001b[0m\u001b[0ma\u001b[0m\u001b[1;33m//\u001b[0m\u001b[0mb\u001b[0m\u001b[1;33m)\u001b[0m\u001b[1;33m\u001b[0m\u001b[1;33m\u001b[0m\u001b[0m\n\u001b[0m",
      "\u001b[1;31mTypeError\u001b[0m: can't take floor of complex number."
     ]
    }
   ],
   "source": [
    "a=8+5j\n",
    "b=6+2j\n",
    "print(\"Floor division of two complex  numbers is =\",a//b)"
   ]
  },
  {
   "cell_type": "markdown",
   "metadata": {},
   "source": [
    "## Research on range() functions and its parameters. Create a markdown cell and write in your own words (no copy-paste from google please) what you understand about it. Implement a small program of your choice on the same."
   ]
  },
  {
   "cell_type": "markdown",
   "metadata": {},
   "source": [
    "The range() function in Python can take three arguments. First one is START , second is STOP and third is STEP. In the START argument the lower limit sequence is obtained. In the STOP argument the upper limit sequence is obtained. In the STEP argument the difference between the upper limit and lower limit is obtained. "
   ]
  },
  {
   "cell_type": "code",
   "execution_count": 3,
   "metadata": {},
   "outputs": [
    {
     "name": "stdout",
     "output_type": "stream",
     "text": [
      "Printing All even numbers between 2 and 10 using range() function\n",
      "2, 4, 6, 8, "
     ]
    }
   ],
   "source": [
    "print(\"Printing All even numbers between 2 and 10 using range() function\")\n",
    "for i in range(2, 10, 2):\n",
    "    print(i, end=', ')"
   ]
  },
  {
   "cell_type": "markdown",
   "metadata": {},
   "source": [
    "##  Consider two numbers. Perform their subtraction and if the result of subtraction is greater than 25, print their multiplication result else print their division result.\n"
   ]
  },
  {
   "cell_type": "code",
   "execution_count": 4,
   "metadata": {},
   "outputs": [
    {
     "name": "stdout",
     "output_type": "stream",
     "text": [
      "The result of the subtraction of two numbers is= 27\n",
      "Multiplication of two numbers is = 1300\n"
     ]
    }
   ],
   "source": [
    "a=52\n",
    "b=25\n",
    "c=a-b\n",
    "print(\"The result of the subtraction of two numbers is=\",c)\n",
    "if c>25:\n",
    "    print(\"Multiplication of two numbers is =\",a*b)\n",
    "else:\n",
    "    print(\"Division of two numbers is =\",a/b)"
   ]
  },
  {
   "cell_type": "markdown",
   "metadata": {},
   "source": [
    "## Consider a list of 10 elements of integer values. If the number in the list is divisible by 2, print the result as \"square of that number minus 2\"."
   ]
  },
  {
   "cell_type": "code",
   "execution_count": 1,
   "metadata": {},
   "outputs": [
    {
     "name": "stdout",
     "output_type": "stream",
     "text": [
      "square of 2  minus 2 is  2\n",
      "square of 4  minus 2 is  14\n",
      "square of 6  minus 2 is  34\n",
      "square of 8  minus 2 is  62\n",
      "square of 10  minus 2 is  98\n"
     ]
    }
   ],
   "source": [
    "l=[1,2,3,4,5,6,7,8,9,10]\n",
    "for i in l:\n",
    "    if i%2==0:\n",
    "        a = i**2 -2\n",
    "        print(\"square of\",i,\" minus 2 is \",a )"
   ]
  },
  {
   "cell_type": "markdown",
   "metadata": {},
   "source": [
    "## Consider a list of 10 elements. Print all the elements in the list which are greater than 7 when that number is divided 2."
   ]
  },
  {
   "cell_type": "code",
   "execution_count": 3,
   "metadata": {},
   "outputs": [
    {
     "name": "stdout",
     "output_type": "stream",
     "text": [
      "Numbers when divided by 2 gives the value greater than 7 are as follows 24\n",
      "Numbers when divided by 2 gives the value greater than 7 are as follows 48\n",
      "Numbers when divided by 2 gives the value greater than 7 are as follows 54\n",
      "Numbers when divided by 2 gives the value greater than 7 are as follows 32\n",
      "Numbers when divided by 2 gives the value greater than 7 are as follows 67\n",
      "Numbers when divided by 2 gives the value greater than 7 are as follows 34\n",
      "Numbers when divided by 2 gives the value greater than 7 are as follows 44\n",
      "Numbers when divided by 2 gives the value greater than 7 are as follows 50\n",
      "Numbers when divided by 2 gives the value greater than 7 are as follows 69\n"
     ]
    }
   ],
   "source": [
    "l=[1,24,48,54,32,67,34,44,50,69]\n",
    "for i in l:\n",
    "    if i/2>7:\n",
    "        print(\"Numbers when divided by 2 gives the value greater than 7 are as follows\",i)"
   ]
  },
  {
   "cell_type": "code",
   "execution_count": null,
   "metadata": {},
   "outputs": [],
   "source": []
  }
 ],
 "metadata": {
  "kernelspec": {
   "display_name": "Python 3",
   "language": "python",
   "name": "python3"
  },
  "language_info": {
   "codemirror_mode": {
    "name": "ipython",
    "version": 3
   },
   "file_extension": ".py",
   "mimetype": "text/x-python",
   "name": "python",
   "nbconvert_exporter": "python",
   "pygments_lexer": "ipython3",
   "version": "3.7.6"
  }
 },
 "nbformat": 4,
 "nbformat_minor": 4
}
